{
 "cells": [
  {
   "attachments": {},
   "cell_type": "markdown",
   "metadata": {},
   "source": [
    "# Intro al análisis de datos - ICC732\n",
    "## Taller 2"
   ]
  },
  {
   "attachments": {},
   "cell_type": "markdown",
   "metadata": {},
   "source": [
    "### Instrucciones\n"
   ]
  },
  {
   "attachments": {},
   "cell_type": "markdown",
   "metadata": {},
   "source": [
    "## **Equipos**\n",
    "- Trabaje en grupos de 3 integrantes.\n",
    "- No se aceptan grupos de 4 integrantes\n",
    "- Si no cumple este requisito contacte al profesor.\n",
    "\n",
    "**Evaluación**\n",
    "- Parte 1: 6 tareas -> 0-3 puntos cada una.\n",
    "- Parte 2: 1 tarea  -> 0-3 puntos cada una.\n",
    "- Parte 3: 4 tareas -> 0-3 puntos cada una.\n",
    "\n",
    "**Reglamento**\n",
    "- Preguntas similares entre grupos, reciben nota mínima.\n",
    "- Puede usar herramientas de asistencia para responder su taller, pero debe adaptar el código al contexto que este taller exige.\n",
    "- Marque con una **X** si herramientas del tipo chatGPT para responder este taller: () Sí, () No.\n",
    "- No se revisarán entregas enviadas por Discord o correo electrónico.\n",
    "\n",
    "**Disponibilidad del Taller**\n",
    "- Desde: Lunes 2 de Octubre, 16:50.\n",
    "- Hasta: Miércoles 4 de Octubre: 23:00.\n",
    "\n",
    "**Hint**\n",
    "- Documente métodos y clases\n",
    "\n",
    "**Formato de entrega**\n",
    "- Apellido1-Apellido2-Apellido3.ipynb (ejecutable)\n",
    "- Apellido1-Apellido2-Apellido3.html\n",
    "- Solo 1 integrante sube el taller al campus virtual.\n",
    "- Crear respositorio GitHub: **Link acá**"
   ]
  },
  {
   "attachments": {},
   "cell_type": "markdown",
   "metadata": {},
   "source": [
    "## Juego\n",
    "\n",
    "#### **Clases**\n",
    "- 1 clase denominada ``Dron``:\n",
    "    - representa un Dron en un juego de mesa.\n",
    "    - consta de dos parámetros que lo identifican: nombre y pisición.\n",
    "    - se inicializa en ``0,0`` con nombres ``Timon`` y ``Sid``\n",
    "\n",
    "- 1 clase denominada ``Tablero``:\n",
    "    - que representa un tablero de juego de mesa.\n",
    "    - tiene tamaño que se representa por: x e y.\n",
    "    - se inicializa en tamaño ``50,50``\n",
    "\n",
    "#### **Comportamiento**\n",
    "- El dron se mueve en 4 direcciones: arriba, abajo, izquierda, derecha\n",
    "- En el trablero, el dron puede lanzar bombas\n",
    "\n",
    "#### **Jugada**\n",
    "- Una juagada representa el juego en marcha.\n",
    "- Primero se mueven los drones en diferentes direcciones\n",
    "- Luego, cada dron lanza una bomba\n",
    "- Si la posición de la bomba lanzada por un dron coincide con la posicion del rival, entonces el dron gana."
   ]
  },
  {
   "attachments": {},
   "cell_type": "markdown",
   "metadata": {},
   "source": [
    "#### 1 - Clase Dron\n",
    "\n",
    "- Cree la clase Dron\n",
    "- Implemente la clase.\n",
    "    - ``Dron``\n",
    "- Implemente los métodos\n",
    "    - ``mover_arriba``, ``mover_abajo``, ``mover_izquierda``, ``mover_arriba``, y  ``lanzar_bomba``."
   ]
  },
  {
   "cell_type": "code",
   "execution_count": null,
   "metadata": {},
   "outputs": [],
   "source": [
    "# Su código acá\n",
    "class Dron(object):\n",
    "    def __init__(self, name, posicion=(0,0), bomba=False):\n",
    "        self.name = name\n",
    "        self.posicion = posicion\n",
    "        self.bomba = bomba\n",
    "    \n",
    "    def mover_arriba(self, m):\n",
    "        assert isinstance(m, int)\n",
    "        posicion = self.posicion\n",
    "        print(f'El dron {self.name} se mueve hacia arriba, {m} pasos, desde {posicion} hacia {(posicion[0], posicion[1]+m)}\\n')\n",
    "        self.y += m\n",
    "        \n",
    "    def mover_abajo(self, m):\n",
    "        assert isinstance(m, int)\n",
    "        posicion = self.posicion\n",
    "        print(f'El dron {self.name} se mueve hacia abajo, {m} pasos, desde {posicion} hacia {(posicion[0], posicion[1]-m)}\\n')\n",
    "        self.y -= m\n",
    "        \n",
    "    def mover_izquierda(self, n):\n",
    "        assert isinstance(n, int)\n",
    "        posicion = self.posicion\n",
    "        print(f'El dron {self.name} se mueve hacia la izquierda, {n} pasos, desde {posicion} hacia {(posicion[0]-n, posicion[1])}\\n')\n",
    "        self.x -= n\n",
    "        \n",
    "    def mover_derecha(self, n):\n",
    "        assert isinstance(n, int)\n",
    "        posicion = self.posicion\n",
    "        print(f'El dron {self.name} se mueve hacia la derecha, {n} pasos, desde {posicion} hacia {(posicion[0]+n, posicion[1])}\\n')\n",
    "        self.x += n\n",
    "    \n",
    "    def lanzar_bomba(self):\n",
    "        self.bomba = True\n",
    "        return self.posicion\n",
    "\n",
    "    def resetear_bomba(self):\n",
    "        self.bomba = False"
   ]
  },
  {
   "attachments": {},
   "cell_type": "markdown",
   "metadata": {},
   "source": [
    "#### 2 - Clase Tablero\n",
    "\n",
    "- Implemente la clase Tablero\n",
    "    - tiene tamaño que se representa por: x e y.\n",
    "    - se inicializa en tamaño ``50,50``"
   ]
  },
  {
   "cell_type": "code",
   "execution_count": null,
   "metadata": {},
   "outputs": [],
   "source": [
    "# Su código acá\n",
    "import random \n",
    "\n",
    "class Tablero(object):\n",
    "    def __init__(self, size=50):\n",
    "        self.size = size\n",
    "        \n",
    "    def realizar_jugada(self, dron, direccion, pasos):\n",
    "        \n",
    "        if direccion == 'arriba':\n",
    "            if dron.y + pasos <= self.size // 2:\n",
    "                dron.mover_arriba(pasos)\n",
    "            else:\n",
    "                print(f'La cantidad de pasos especificada va más allá del tablero\\n')\n",
    "        \n",
    "        elif direccion == 'abajo':\n",
    "            if dron.y - pasos >= -self.size // 2:\n",
    "                dron.mover_abajo(pasos)\n",
    "            else:\n",
    "                print(f'La cantidad de pasos especificada va más allá del tablero\\n')\n",
    "        \n",
    "        elif direccion == 'derecha':\n",
    "            if dron.x + pasos <= self.size // 2:\n",
    "                dron.mover_derecha(pasos)\n",
    "            else:\n",
    "                print(f'La cantidad de pasos especificada va más allá del tablero\\n')\n",
    "        \n",
    "        elif direccion == 'izquierda':\n",
    "            if dron.y - pasos >= -self.size // 2:\n",
    "                dron.mover_izquierda(pasos)\n",
    "            else:\n",
    "                print(f'La cantidad de pasos especificada va más allá del tablero\\n')\n",
    "        \n",
    "        else:\n",
    "            print(f'La dirección espeficidada no existe')\n",
    "            \n",
    "    def bombardear(self, dron1, dron2):\n",
    "        coordenadas_bomba = dron1.lanzar_bomba()\n",
    "        coordenadas_objetivo = dron2.posicion\n",
    "        \n",
    "        if (coordenadas_bomba == coordenadas_objetivo) and (dron1.bomba):\n",
    "            print(f'El bombardeo de {dron1.name} a {dron2.name} ha sido exitoso\\n')\n",
    "        else:\n",
    "            print(f'El bombardeo de {dron1.name} a {dron2.name} ha fallado\\n')\n",
    "            \n",
    "    def estado_drones(self, dron1, dron2):\n",
    "        print(f'El estado de los drones es el siguiente:\\n')\n",
    "        print(f'{dron1.name}: {dron1.obtener_ubicacion()} | {dron2.name}: {dron2.obtener_ubicacion()}\\n')"
   ]
  },
  {
   "attachments": {},
   "cell_type": "markdown",
   "metadata": {},
   "source": [
    "#### 3 - Jugada\n",
    "\n",
    "- Implemente una jugada (con o sin clase)\n",
    "- Mueva los drones en cierta dirección.\n",
    "- Debe atacar lanzando bombas.\n",
    "- Uno de los drones debe ganar y hacer un anuncio al respecto."
   ]
  },
  {
   "cell_type": "code",
   "execution_count": null,
   "metadata": {},
   "outputs": [],
   "source": [
    "# Su código aquí"
   ]
  }
 ],
 "metadata": {
  "kernelspec": {
   "display_name": "Python 3",
   "language": "python",
   "name": "python3"
  },
  "language_info": {
   "name": "python",
   "version": "3.11.1"
  },
  "orig_nbformat": 4
 },
 "nbformat": 4,
 "nbformat_minor": 2
}
